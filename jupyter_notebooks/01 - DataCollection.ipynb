{
 "cells": [
  {
   "cell_type": "markdown",
   "metadata": {
    "id": "0aStgWSO0E0E"
   },
   "source": [
    "# **Data Collection**"
   ]
  },
  {
   "cell_type": "markdown",
   "metadata": {
    "id": "1eLEkw5O0ECa"
   },
   "source": [
    "## Objectives\n",
    "\n",
    "* Fetch data from Kaggle and save as raw data.\n",
    "* Inspect the data and save under outputs/datasets/collection.\n",
    "\n",
    "## Inputs\n",
    "\n",
    "* Kaggle JSON file\n",
    "\n",
    "## Outputs\n",
    "\n",
    "* Write here which files, code or artefacts you generate by the end of the notebook \n",
    "\n",
    "## Additional Comments\n",
    "\n",
    "* In case you have any additional comments that don't fit in the previous bullets, please state them here. \n"
   ]
  },
  {
   "cell_type": "markdown",
   "metadata": {
    "id": "9uWZXH9LwoQg"
   },
   "source": [
    "---"
   ]
  },
  {
   "cell_type": "markdown",
   "metadata": {
    "id": "cqP-UeN-z3i2"
   },
   "source": [
    "# Change working directory"
   ]
  },
  {
   "cell_type": "markdown",
   "metadata": {
    "id": "aOGIGS-uz3i2"
   },
   "source": [
    "We need to change the working directory from its current folder to its parent folder\n",
    "* We access the current directory with os.getcwd()"
   ]
  },
  {
   "cell_type": "code",
   "execution_count": 1,
   "metadata": {
    "id": "wZfF_j-Bz3i4",
    "outputId": "66943449-1436-4c3d-85c7-b85f9f78349b"
   },
   "outputs": [
    {
     "output_type": "execute_result",
     "data": {
      "text/plain": "'/workspaces/project-portfolio-5/jupyter_notebooks'"
     },
     "metadata": {},
     "execution_count": 1
    }
   ],
   "source": [
    "import os\n",
    "current_dir = os.getcwd()\n",
    "current_dir"
   ]
  },
  {
   "cell_type": "markdown",
   "metadata": {
    "id": "9MWW8E7lz3i7"
   },
   "source": [
    "We want to make the parent of the current directory the new current directory\n",
    "* os.path.dirname() gets the parent directory\n",
    "* os.chir() defines the new current directory"
   ]
  },
  {
   "cell_type": "code",
   "execution_count": 2,
   "metadata": {
    "id": "TwHsQRWjz3i9",
    "outputId": "86849db3-cd2f-4cc5-ebb8-2d0caafa1a2c",
    "tags": []
   },
   "outputs": [
    {
     "output_type": "stream",
     "name": "stdout",
     "text": "You set a new current directory\n"
    }
   ],
   "source": [
    "os.chdir(os.path.dirname(current_dir))\n",
    "print(\"You set a new current directory\")"
   ]
  },
  {
   "cell_type": "markdown",
   "metadata": {
    "id": "M_xPk_Ijz3i-"
   },
   "source": [
    "Confirm the new current directory"
   ]
  },
  {
   "cell_type": "code",
   "execution_count": 3,
   "metadata": {
    "id": "vz3S-_kjz3jA",
    "outputId": "00b79ae4-75d0-4a96-d193-ac9ef9847ea2"
   },
   "outputs": [
    {
     "output_type": "execute_result",
     "data": {
      "text/plain": "'/workspaces/project-portfolio-5'"
     },
     "metadata": {},
     "execution_count": 3
    }
   ],
   "source": [
    "current_dir = os.getcwd()\n",
    "current_dir"
   ]
  },
  {
   "cell_type": "markdown",
   "metadata": {
    "id": "-mavJ8DibrcQ"
   },
   "source": [
    "# Fetch Data from Kaggle"
   ]
  },
  {
   "cell_type": "markdown",
   "metadata": {},
   "source": [
    "Install Kaggle package"
   ]
  },
  {
   "cell_type": "code",
   "execution_count": 4,
   "metadata": {
    "tags": []
   },
   "outputs": [
    {
     "output_type": "stream",
     "name": "stdout",
     "text": "Collecting kaggle==1.5.12\n  Downloading kaggle-1.5.12.tar.gz (58 kB)\n\u001b[2K     \u001b[90m━━━━━━━━━━━━━━━━━━━━━━━━━━━━━━━━━━━━━━━━\u001b[0m \u001b[32m59.0/59.0 kB\u001b[0m \u001b[31m1.1 MB/s\u001b[0m eta \u001b[36m0:00:00\u001b[0m\n\u001b[?25h  Preparing metadata (setup.py) ... \u001b[?25ldone\n\u001b[?25hRequirement already satisfied: six>=1.10 in /home/codeany/.pyenv/versions/3.8.12/lib/python3.8/site-packages (from kaggle==1.5.12) (1.16.0)\nRequirement already satisfied: certifi in /home/codeany/.pyenv/versions/3.8.12/lib/python3.8/site-packages (from kaggle==1.5.12) (2023.5.7)\nRequirement already satisfied: python-dateutil in /home/codeany/.pyenv/versions/3.8.12/lib/python3.8/site-packages (from kaggle==1.5.12) (2.8.2)\nRequirement already satisfied: requests in /home/codeany/.pyenv/versions/3.8.12/lib/python3.8/site-packages (from kaggle==1.5.12) (2.31.0)\nRequirement already satisfied: tqdm in /home/codeany/.local/lib/python3.8/site-packages (from kaggle==1.5.12) (4.65.0)\nCollecting python-slugify (from kaggle==1.5.12)\n  Downloading python_slugify-8.0.1-py2.py3-none-any.whl (9.7 kB)\nRequirement already satisfied: urllib3 in /home/codeany/.pyenv/versions/3.8.12/lib/python3.8/site-packages (from kaggle==1.5.12) (2.0.3)\nCollecting text-unidecode>=1.3 (from python-slugify->kaggle==1.5.12)\n  Downloading text_unidecode-1.3-py2.py3-none-any.whl (78 kB)\n\u001b[2K     \u001b[90m━━━━━━━━━━━━━━━━━━━━━━━━━━━━━━━━━━━━━━━━\u001b[0m \u001b[32m78.2/78.2 kB\u001b[0m \u001b[31m3.4 MB/s\u001b[0m eta \u001b[36m0:00:00\u001b[0m\n\u001b[?25hRequirement already satisfied: charset-normalizer<4,>=2 in /home/codeany/.pyenv/versions/3.8.12/lib/python3.8/site-packages (from requests->kaggle==1.5.12) (3.1.0)\nRequirement already satisfied: idna<4,>=2.5 in /home/codeany/.pyenv/versions/3.8.12/lib/python3.8/site-packages (from requests->kaggle==1.5.12) (3.4)\nBuilding wheels for collected packages: kaggle\n  Building wheel for kaggle (setup.py) ... \u001b[?25ldone\n\u001b[?25h  Created wheel for kaggle: filename=kaggle-1.5.12-py3-none-any.whl size=73031 sha256=9bea5cb14f707a7bb923d9697759f2433f3742317c34388fdeb0d76506363b50\n  Stored in directory: /home/codeany/.cache/pip/wheels/29/da/11/144cc25aebdaeb4931b231e25fd34b394e6a5725cbb2f50106\nSuccessfully built kaggle\nInstalling collected packages: text-unidecode, python-slugify, kaggle\nSuccessfully installed kaggle-1.5.12 python-slugify-8.0.1 text-unidecode-1.3\nNote: you may need to restart the kernel to use updated packages.\n"
    }
   ],
   "source": [
    "%pip install kaggle==1.5.12"
   ]
  },
  {
   "cell_type": "markdown",
   "metadata": {
    "id": "ZY3l0-AxO93d"
   },
   "source": [
    "---"
   ]
  },
  {
   "source": [
    "Import JSON file"
   ],
   "cell_type": "markdown",
   "metadata": {}
  },
  {
   "cell_type": "code",
   "execution_count": 6,
   "metadata": {},
   "outputs": [],
   "source": [
    "import os\n",
    "os.environ['KAGGLE_CONFIG_DIR'] = os.getcwd()\n",
    "! chmod 600 kaggle.json"
   ]
  },
  {
   "source": [
    "Get dataset path fom Kaggle url.\n",
    "\n",
    "Define the Kaggle dataset, and destination folder and download it."
   ],
   "cell_type": "markdown",
   "metadata": {}
  },
  {
   "cell_type": "code",
   "execution_count": 7,
   "metadata": {
    "tags": []
   },
   "outputs": [
    {
     "output_type": "stream",
     "name": "stdout",
     "text": "/bin/bash: line 1: kaggle: command not found\n"
    }
   ],
   "source": [
    "KaggleDatasetPath = \"codeinstitute/housing-prices-data\"\n",
    "DestinationFolder = \"inputs/datasets/raw\"   \n",
    "! kaggle datasets download -d {KaggleDatasetPath} -p {DestinationFolder}"
   ]
  },
  {
   "source": [
    "Kaggle package is not working in this workspace, so we will manually download the zip file.\n",
    "\n",
    "We will then manually create the destination folder \"inputs/datasets/raw\", and insert the zip file in it.\n",
    "\n",
    "We will then unzip the file, delete the zip file and delete the kaggle.json file."
   ],
   "cell_type": "markdown",
   "metadata": {}
  },
  {
   "cell_type": "code",
   "execution_count": 9,
   "metadata": {
    "tags": []
   },
   "outputs": [
    {
     "output_type": "stream",
     "name": "stdout",
     "text": "Archive:  inputs/datasets/raw/housing-prices-data.zip\n  inflating: inputs/datasets/raw/house-metadata.txt  \n  inflating: inputs/datasets/raw/house-price-20211124T154130Z-001/house-price/house_prices_records.csv\n  inflating: inputs/datasets/raw/house-price-20211124T154130Z-001/house-price/inherited_houses.csv  \n"
    }
   ],
   "source": [
    "! unzip {\"inputs/datasets/raw\"}/*.zip -d {\"inputs/datasets/raw\"} \\\n",
    "  && rm {\"inputs/datasets/raw\"}/*.zip \\\n",
    "  && rm kaggle.json"
   ]
  },
  {
   "cell_type": "markdown",
   "metadata": {
    "id": "uFQo3ycuO-v6"
   },
   "source": [
    "# Load and Inspect Data"
   ]
  },
  {
   "cell_type": "markdown",
   "metadata": {},
   "source": [
    "First we load the housing prices records."
   ]
  },
  {
   "cell_type": "code",
   "execution_count": 10,
   "metadata": {},
   "outputs": [
    {
     "output_type": "execute_result",
     "data": {
      "text/plain": "   1stFlrSF  2ndFlrSF  BedroomAbvGr BsmtExposure  BsmtFinSF1 BsmtFinType1  \\\n0       856     854.0           3.0           No         706          GLQ   \n1      1262       0.0           3.0           Gd         978          ALQ   \n2       920     866.0           3.0           Mn         486          GLQ   \n3       961       NaN           NaN           No         216          ALQ   \n4      1145       NaN           4.0           Av         655          GLQ   \n\n   BsmtUnfSF  EnclosedPorch  GarageArea GarageFinish  ...  LotFrontage  \\\n0        150            0.0         548          RFn  ...         65.0   \n1        284            NaN         460          RFn  ...         80.0   \n2        434            0.0         608          RFn  ...         68.0   \n3        540            NaN         642          Unf  ...         60.0   \n4        490            0.0         836          RFn  ...         84.0   \n\n   MasVnrArea OpenPorchSF  OverallCond  OverallQual  TotalBsmtSF  WoodDeckSF  \\\n0       196.0          61            5            7          856         0.0   \n1         0.0           0            8            6         1262         NaN   \n2       162.0          42            5            7          920         NaN   \n3         0.0          35            5            7          756         NaN   \n4       350.0          84            5            8         1145         NaN   \n\n   YearBuilt  YearRemodAdd  SalePrice  \n0       2003          2003     208500  \n1       1976          1976     181500  \n2       2001          2002     223500  \n3       1915          1970     140000  \n4       2000          2000     250000  \n\n[5 rows x 24 columns]",
      "text/html": "<div>\n<style scoped>\n    .dataframe tbody tr th:only-of-type {\n        vertical-align: middle;\n    }\n\n    .dataframe tbody tr th {\n        vertical-align: top;\n    }\n\n    .dataframe thead th {\n        text-align: right;\n    }\n</style>\n<table border=\"1\" class=\"dataframe\">\n  <thead>\n    <tr style=\"text-align: right;\">\n      <th></th>\n      <th>1stFlrSF</th>\n      <th>2ndFlrSF</th>\n      <th>BedroomAbvGr</th>\n      <th>BsmtExposure</th>\n      <th>BsmtFinSF1</th>\n      <th>BsmtFinType1</th>\n      <th>BsmtUnfSF</th>\n      <th>EnclosedPorch</th>\n      <th>GarageArea</th>\n      <th>GarageFinish</th>\n      <th>...</th>\n      <th>LotFrontage</th>\n      <th>MasVnrArea</th>\n      <th>OpenPorchSF</th>\n      <th>OverallCond</th>\n      <th>OverallQual</th>\n      <th>TotalBsmtSF</th>\n      <th>WoodDeckSF</th>\n      <th>YearBuilt</th>\n      <th>YearRemodAdd</th>\n      <th>SalePrice</th>\n    </tr>\n  </thead>\n  <tbody>\n    <tr>\n      <th>0</th>\n      <td>856</td>\n      <td>854.0</td>\n      <td>3.0</td>\n      <td>No</td>\n      <td>706</td>\n      <td>GLQ</td>\n      <td>150</td>\n      <td>0.0</td>\n      <td>548</td>\n      <td>RFn</td>\n      <td>...</td>\n      <td>65.0</td>\n      <td>196.0</td>\n      <td>61</td>\n      <td>5</td>\n      <td>7</td>\n      <td>856</td>\n      <td>0.0</td>\n      <td>2003</td>\n      <td>2003</td>\n      <td>208500</td>\n    </tr>\n    <tr>\n      <th>1</th>\n      <td>1262</td>\n      <td>0.0</td>\n      <td>3.0</td>\n      <td>Gd</td>\n      <td>978</td>\n      <td>ALQ</td>\n      <td>284</td>\n      <td>NaN</td>\n      <td>460</td>\n      <td>RFn</td>\n      <td>...</td>\n      <td>80.0</td>\n      <td>0.0</td>\n      <td>0</td>\n      <td>8</td>\n      <td>6</td>\n      <td>1262</td>\n      <td>NaN</td>\n      <td>1976</td>\n      <td>1976</td>\n      <td>181500</td>\n    </tr>\n    <tr>\n      <th>2</th>\n      <td>920</td>\n      <td>866.0</td>\n      <td>3.0</td>\n      <td>Mn</td>\n      <td>486</td>\n      <td>GLQ</td>\n      <td>434</td>\n      <td>0.0</td>\n      <td>608</td>\n      <td>RFn</td>\n      <td>...</td>\n      <td>68.0</td>\n      <td>162.0</td>\n      <td>42</td>\n      <td>5</td>\n      <td>7</td>\n      <td>920</td>\n      <td>NaN</td>\n      <td>2001</td>\n      <td>2002</td>\n      <td>223500</td>\n    </tr>\n    <tr>\n      <th>3</th>\n      <td>961</td>\n      <td>NaN</td>\n      <td>NaN</td>\n      <td>No</td>\n      <td>216</td>\n      <td>ALQ</td>\n      <td>540</td>\n      <td>NaN</td>\n      <td>642</td>\n      <td>Unf</td>\n      <td>...</td>\n      <td>60.0</td>\n      <td>0.0</td>\n      <td>35</td>\n      <td>5</td>\n      <td>7</td>\n      <td>756</td>\n      <td>NaN</td>\n      <td>1915</td>\n      <td>1970</td>\n      <td>140000</td>\n    </tr>\n    <tr>\n      <th>4</th>\n      <td>1145</td>\n      <td>NaN</td>\n      <td>4.0</td>\n      <td>Av</td>\n      <td>655</td>\n      <td>GLQ</td>\n      <td>490</td>\n      <td>0.0</td>\n      <td>836</td>\n      <td>RFn</td>\n      <td>...</td>\n      <td>84.0</td>\n      <td>350.0</td>\n      <td>84</td>\n      <td>5</td>\n      <td>8</td>\n      <td>1145</td>\n      <td>NaN</td>\n      <td>2000</td>\n      <td>2000</td>\n      <td>250000</td>\n    </tr>\n  </tbody>\n</table>\n<p>5 rows × 24 columns</p>\n</div>"
     },
     "metadata": {},
     "execution_count": 10
    }
   ],
   "source": [
    "import pandas as pd\n",
    "df = pd.read_csv(f\"inputs/datasets/raw/house-price-20211124T154130Z-001/house-price/house_prices_records.csv\")\n",
    "df.head()"
   ]
  },
  {
   "source": [
    "Then we inspect the DataFrame using .info() "
   ],
   "cell_type": "markdown",
   "metadata": {}
  },
  {
   "cell_type": "code",
   "execution_count": 11,
   "metadata": {
    "tags": []
   },
   "outputs": [
    {
     "output_type": "stream",
     "name": "stdout",
     "text": "<class 'pandas.core.frame.DataFrame'>\nRangeIndex: 1460 entries, 0 to 1459\nData columns (total 24 columns):\n #   Column         Non-Null Count  Dtype  \n---  ------         --------------  -----  \n 0   1stFlrSF       1460 non-null   int64  \n 1   2ndFlrSF       1374 non-null   float64\n 2   BedroomAbvGr   1361 non-null   float64\n 3   BsmtExposure   1460 non-null   object \n 4   BsmtFinSF1     1460 non-null   int64  \n 5   BsmtFinType1   1346 non-null   object \n 6   BsmtUnfSF      1460 non-null   int64  \n 7   EnclosedPorch  136 non-null    float64\n 8   GarageArea     1460 non-null   int64  \n 9   GarageFinish   1298 non-null   object \n 10  GarageYrBlt    1379 non-null   float64\n 11  GrLivArea      1460 non-null   int64  \n 12  KitchenQual    1460 non-null   object \n 13  LotArea        1460 non-null   int64  \n 14  LotFrontage    1201 non-null   float64\n 15  MasVnrArea     1452 non-null   float64\n 16  OpenPorchSF    1460 non-null   int64  \n 17  OverallCond    1460 non-null   int64  \n 18  OverallQual    1460 non-null   int64  \n 19  TotalBsmtSF    1460 non-null   int64  \n 20  WoodDeckSF     155 non-null    float64\n 21  YearBuilt      1460 non-null   int64  \n 22  YearRemodAdd   1460 non-null   int64  \n 23  SalePrice      1460 non-null   int64  \ndtypes: float64(7), int64(13), object(4)\nmemory usage: 273.9+ KB\n"
    }
   ],
   "source": [
    "df.info()"
   ]
  },
  {
   "source": [
    "Second we load the inherited houses file."
   ],
   "cell_type": "markdown",
   "metadata": {}
  },
  {
   "cell_type": "code",
   "execution_count": 12,
   "metadata": {},
   "outputs": [
    {
     "output_type": "execute_result",
     "data": {
      "text/plain": "   1stFlrSF  2ndFlrSF  BedroomAbvGr BsmtExposure  BsmtFinSF1 BsmtFinType1  \\\n0       896         0             2           No       468.0          Rec   \n1      1329         0             3           No       923.0          ALQ   \n2       928       701             3           No       791.0          GLQ   \n3       926       678             3           No       602.0          GLQ   \n\n   BsmtUnfSF  EnclosedPorch  GarageArea GarageFinish  ...  LotArea  \\\n0      270.0              0       730.0          Unf  ...    11622   \n1      406.0              0       312.0          Unf  ...    14267   \n2      137.0              0       482.0          Fin  ...    13830   \n3      324.0              0       470.0          Fin  ...     9978   \n\n   LotFrontage MasVnrArea  OpenPorchSF  OverallCond  OverallQual  TotalBsmtSF  \\\n0         80.0        0.0            0            6            5        882.0   \n1         81.0      108.0           36            6            6       1329.0   \n2         74.0        0.0           34            5            5        928.0   \n3         78.0       20.0           36            6            6        926.0   \n\n   WoodDeckSF  YearBuilt  YearRemodAdd  \n0         140       1961          1961  \n1         393       1958          1958  \n2         212       1997          1998  \n3         360       1998          1998  \n\n[4 rows x 23 columns]",
      "text/html": "<div>\n<style scoped>\n    .dataframe tbody tr th:only-of-type {\n        vertical-align: middle;\n    }\n\n    .dataframe tbody tr th {\n        vertical-align: top;\n    }\n\n    .dataframe thead th {\n        text-align: right;\n    }\n</style>\n<table border=\"1\" class=\"dataframe\">\n  <thead>\n    <tr style=\"text-align: right;\">\n      <th></th>\n      <th>1stFlrSF</th>\n      <th>2ndFlrSF</th>\n      <th>BedroomAbvGr</th>\n      <th>BsmtExposure</th>\n      <th>BsmtFinSF1</th>\n      <th>BsmtFinType1</th>\n      <th>BsmtUnfSF</th>\n      <th>EnclosedPorch</th>\n      <th>GarageArea</th>\n      <th>GarageFinish</th>\n      <th>...</th>\n      <th>LotArea</th>\n      <th>LotFrontage</th>\n      <th>MasVnrArea</th>\n      <th>OpenPorchSF</th>\n      <th>OverallCond</th>\n      <th>OverallQual</th>\n      <th>TotalBsmtSF</th>\n      <th>WoodDeckSF</th>\n      <th>YearBuilt</th>\n      <th>YearRemodAdd</th>\n    </tr>\n  </thead>\n  <tbody>\n    <tr>\n      <th>0</th>\n      <td>896</td>\n      <td>0</td>\n      <td>2</td>\n      <td>No</td>\n      <td>468.0</td>\n      <td>Rec</td>\n      <td>270.0</td>\n      <td>0</td>\n      <td>730.0</td>\n      <td>Unf</td>\n      <td>...</td>\n      <td>11622</td>\n      <td>80.0</td>\n      <td>0.0</td>\n      <td>0</td>\n      <td>6</td>\n      <td>5</td>\n      <td>882.0</td>\n      <td>140</td>\n      <td>1961</td>\n      <td>1961</td>\n    </tr>\n    <tr>\n      <th>1</th>\n      <td>1329</td>\n      <td>0</td>\n      <td>3</td>\n      <td>No</td>\n      <td>923.0</td>\n      <td>ALQ</td>\n      <td>406.0</td>\n      <td>0</td>\n      <td>312.0</td>\n      <td>Unf</td>\n      <td>...</td>\n      <td>14267</td>\n      <td>81.0</td>\n      <td>108.0</td>\n      <td>36</td>\n      <td>6</td>\n      <td>6</td>\n      <td>1329.0</td>\n      <td>393</td>\n      <td>1958</td>\n      <td>1958</td>\n    </tr>\n    <tr>\n      <th>2</th>\n      <td>928</td>\n      <td>701</td>\n      <td>3</td>\n      <td>No</td>\n      <td>791.0</td>\n      <td>GLQ</td>\n      <td>137.0</td>\n      <td>0</td>\n      <td>482.0</td>\n      <td>Fin</td>\n      <td>...</td>\n      <td>13830</td>\n      <td>74.0</td>\n      <td>0.0</td>\n      <td>34</td>\n      <td>5</td>\n      <td>5</td>\n      <td>928.0</td>\n      <td>212</td>\n      <td>1997</td>\n      <td>1998</td>\n    </tr>\n    <tr>\n      <th>3</th>\n      <td>926</td>\n      <td>678</td>\n      <td>3</td>\n      <td>No</td>\n      <td>602.0</td>\n      <td>GLQ</td>\n      <td>324.0</td>\n      <td>0</td>\n      <td>470.0</td>\n      <td>Fin</td>\n      <td>...</td>\n      <td>9978</td>\n      <td>78.0</td>\n      <td>20.0</td>\n      <td>36</td>\n      <td>6</td>\n      <td>6</td>\n      <td>926.0</td>\n      <td>360</td>\n      <td>1998</td>\n      <td>1998</td>\n    </tr>\n  </tbody>\n</table>\n<p>4 rows × 23 columns</p>\n</div>"
     },
     "metadata": {},
     "execution_count": 12
    }
   ],
   "source": [
    "df_inherit = pd.read_csv(f\"inputs/datasets/raw/house-price-20211124T154130Z-001/house-price/inherited_houses.csv\")\n",
    "df_inherit.head()"
   ]
  },
  {
   "source": [
    "Then we inspect this DataFrame as well using .info()"
   ],
   "cell_type": "markdown",
   "metadata": {}
  },
  {
   "cell_type": "code",
   "execution_count": 13,
   "metadata": {
    "tags": []
   },
   "outputs": [
    {
     "output_type": "stream",
     "name": "stdout",
     "text": "<class 'pandas.core.frame.DataFrame'>\nRangeIndex: 4 entries, 0 to 3\nData columns (total 23 columns):\n #   Column         Non-Null Count  Dtype  \n---  ------         --------------  -----  \n 0   1stFlrSF       4 non-null      int64  \n 1   2ndFlrSF       4 non-null      int64  \n 2   BedroomAbvGr   4 non-null      int64  \n 3   BsmtExposure   4 non-null      object \n 4   BsmtFinSF1     4 non-null      float64\n 5   BsmtFinType1   4 non-null      object \n 6   BsmtUnfSF      4 non-null      float64\n 7   EnclosedPorch  4 non-null      int64  \n 8   GarageArea     4 non-null      float64\n 9   GarageFinish   4 non-null      object \n 10  GarageYrBlt    4 non-null      float64\n 11  GrLivArea      4 non-null      int64  \n 12  KitchenQual    4 non-null      object \n 13  LotArea        4 non-null      int64  \n 14  LotFrontage    4 non-null      float64\n 15  MasVnrArea     4 non-null      float64\n 16  OpenPorchSF    4 non-null      int64  \n 17  OverallCond    4 non-null      int64  \n 18  OverallQual    4 non-null      int64  \n 19  TotalBsmtSF    4 non-null      float64\n 20  WoodDeckSF     4 non-null      int64  \n 21  YearBuilt      4 non-null      int64  \n 22  YearRemodAdd   4 non-null      int64  \ndtypes: float64(7), int64(12), object(4)\nmemory usage: 864.0+ bytes\n"
    }
   ],
   "source": [
    "df_inherit.info()"
   ]
  },
  {
   "cell_type": "markdown",
   "metadata": {},
   "source": [
    "---"
   ]
  },
  {
   "cell_type": "markdown",
   "metadata": {
    "id": "ltNetd085qHf"
   },
   "source": [
    "# Push files to Repo"
   ]
  },
  {
   "cell_type": "markdown",
   "metadata": {},
   "source": [
    "We then save the files generated for the project in a different folder (outputs)."
   ]
  },
  {
   "cell_type": "code",
   "execution_count": 16,
   "metadata": {
    "id": "aKlnIozA4eQO",
    "outputId": "fd09bc1f-adb1-4511-f6ce-492a6af570c0",
    "tags": []
   },
   "outputs": [],
   "source": [
    "import os\n",
    "try:\n",
    "  os.makedirs(name='outputs/datasets/collection')\n",
    "except Exception as e:\n",
    "  print(e)\n",
    "\n",
    "df.to_csv(f\"outputs/datasets/collection/house_prices_records.csv\",index=False)\n",
    "df_inherit.to_csv(f\"outputs/datasets/collection/inherited_houses_records.csv\",index=False)\n"
   ]
  },
  {
   "cell_type": "code",
   "execution_count": null,
   "metadata": {},
   "outputs": [],
   "source": []
  }
 ],
 "metadata": {
  "accelerator": "GPU",
  "colab": {
   "name": "Data Practitioner Jupyter Notebook.ipynb",
   "provenance": [],
   "toc_visible": true
  },
  "interpreter": {
   "hash": "8b8334dab9339717f727a1deaf837b322d7a41c20d15cc86be99a8e69ceec8ce"
  },
  "kernelspec": {
   "display_name": "Python 3.8.12 64-bit ('3.8.12': pyenv)",
   "language": "python",
   "name": "python381264bit3812pyenv900795a21db3468281e9645a9fc2b09e"
  },
  "language_info": {
   "codemirror_mode": {
    "name": "ipython",
    "version": 3
   },
   "file_extension": ".py",
   "mimetype": "text/x-python",
   "name": "python",
   "nbconvert_exporter": "python",
   "pygments_lexer": "ipython3",
   "version": "3.8.12-final"
  }
 },
 "nbformat": 4,
 "nbformat_minor": 2
}