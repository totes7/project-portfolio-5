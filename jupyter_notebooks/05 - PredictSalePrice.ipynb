{
  "cells": [
    {
      "cell_type": "markdown",
      "metadata": {
        "id": "0aStgWSO0E0E"
      },
      "source": [
        "# **Predict Sale Price**"
      ]
    },
    {
      "cell_type": "code",
      "execution_count": null,
      "metadata": {},
      "outputs": [],
      "source": []
    },
    {
      "cell_type": "markdown",
      "metadata": {
        "id": "1eLEkw5O0ECa"
      },
      "source": [
        "## Objectives\n",
        "\n",
        "* Create Regressor Pipeline\n",
        "* Hyperparameter optimization\n",
        "* Grid Search CV - Sklearn\n",
        "* Train ML pipeline to predict property sale price.\n",
        "\n",
        "## Inputs\n",
        "\n",
        "* outputs/datasets/cleaned/clean_house_price_records.csv\n",
        "\n",
        "## Outputs\n",
        "\n",
        "* ML pipeline\n",
        "* Feature Importance Plot\n",
        "\n"
      ]
    },
    {
      "cell_type": "markdown",
      "metadata": {
        "id": "9uWZXH9LwoQg"
      },
      "source": [
        "---"
      ]
    },
    {
      "cell_type": "markdown",
      "metadata": {
        "id": "cqP-UeN-z3i2"
      },
      "source": [
        "# Change working directory"
      ]
    },
    {
      "cell_type": "markdown",
      "metadata": {
        "id": "aOGIGS-uz3i2"
      },
      "source": [
        "We need to change the working directory from its current folder to its parent folder\n",
        "* We access the current directory with os.getcwd()"
      ]
    },
    {
      "cell_type": "code",
      "execution_count": 1,
      "metadata": {
        "id": "wZfF_j-Bz3i4",
        "outputId": "66943449-1436-4c3d-85c7-b85f9f78349b"
      },
      "outputs": [
        {
          "output_type": "execute_result",
          "data": {
            "text/plain": "'/workspaces/project-portfolio-5/jupyter_notebooks'"
          },
          "metadata": {},
          "execution_count": 1
        }
      ],
      "source": [
        "import os\n",
        "current_dir = os.getcwd()\n",
        "current_dir"
      ]
    },
    {
      "cell_type": "markdown",
      "metadata": {
        "id": "9MWW8E7lz3i7"
      },
      "source": [
        "We want to make the parent of the current directory the new current directory\n",
        "* os.path.dirname() gets the parent directory\n",
        "* os.chir() defines the new current directory"
      ]
    },
    {
      "cell_type": "code",
      "execution_count": 2,
      "metadata": {
        "id": "TwHsQRWjz3i9",
        "outputId": "86849db3-cd2f-4cc5-ebb8-2d0caafa1a2c",
        "tags": []
      },
      "outputs": [
        {
          "output_type": "stream",
          "name": "stdout",
          "text": "You set a new current directory\n"
        }
      ],
      "source": [
        "os.chdir(os.path.dirname(current_dir))\n",
        "print(\"You set a new current directory\")"
      ]
    },
    {
      "cell_type": "markdown",
      "metadata": {
        "id": "M_xPk_Ijz3i-"
      },
      "source": [
        "Confirm the new current directory"
      ]
    },
    {
      "cell_type": "code",
      "execution_count": 3,
      "metadata": {
        "id": "vz3S-_kjz3jA",
        "outputId": "00b79ae4-75d0-4a96-d193-ac9ef9847ea2"
      },
      "outputs": [
        {
          "output_type": "execute_result",
          "data": {
            "text/plain": "'/workspaces/project-portfolio-5'"
          },
          "metadata": {},
          "execution_count": 3
        }
      ],
      "source": [
        "current_dir = os.getcwd()\n",
        "current_dir"
      ]
    },
    {
      "cell_type": "markdown",
      "metadata": {
        "id": "-mavJ8DibrcQ"
      },
      "source": [
        "# Import Packages"
      ]
    },
    {
      "cell_type": "code",
      "execution_count": 4,
      "metadata": {},
      "outputs": [],
      "source": [
        "import numpy as np\n",
        "import pandas as pd"
      ]
    },
    {
      "cell_type": "markdown",
      "metadata": {
        "id": "uFQo3ycuO-v6"
      },
      "source": [
        "# Load Data"
      ]
    },
    {
      "cell_type": "markdown",
      "metadata": {},
      "source": [
        "First we need to merge train and test sets into a new dataset that we'll call clean_house_price_records."
      ]
    },
    {
      "cell_type": "code",
      "execution_count": 7,
      "metadata": {},
      "outputs": [],
      "source": [
        "train_data = pd.read_csv('outputs/datasets/cleaned/train_set.csv')\n",
        "test_data = pd.read_csv('outputs/datasets/cleaned/test_set.csv')\n",
        "\n",
        "merged_data = pd.concat([train_data, test_data], axis=0)\n",
        "\n",
        "merged_data.to_csv('outputs/datasets/cleaned/clean_house_price_records.csv', index=False)"
      ]
    },
    {
      "source": [
        "Now we can load the data."
      ],
      "cell_type": "markdown",
      "metadata": {}
    },
    {
      "cell_type": "code",
      "execution_count": 8,
      "metadata": {},
      "outputs": [
        {
          "output_type": "execute_result",
          "data": {
            "text/plain": "   1stFlrSF  2ndFlrSF  BedroomAbvGr BsmtExposure  BsmtFinSF1 BsmtFinType1  \\\n0      1828         0             0           Av          48          Unk   \n1       894         0             2           No           0          Unf   \n2       964         0             2           No         713          ALQ   \n3      1689         0             3           No        1218          GLQ   \n4      1541         0             3           No           0          Unf   \n\n   BsmtUnfSF  GarageArea GarageFinish  GarageYrBlt  ...  LotArea LotFrontage  \\\n0       1774         774          Unf         2007  ...    11694          90   \n1        894         308          Unf         1962  ...     6600          60   \n2        163         432          Unf         1921  ...    13360          80   \n3        350         857          RFn         2002  ...    13265          69   \n4       1541         843          RFn         2001  ...    13704         118   \n\n   MasVnrArea  OpenPorchSF  OverallCond  OverallQual  TotalBsmtSF  YearBuilt  \\\n0         452          108            5            9         1822       2007   \n1           0            0            5            5          894       1962   \n2           0            0            7            5          876       1921   \n3         148           59            5            8         1568       2002   \n4         150           81            5            7         1541       2001   \n\n   YearRemodAdd  SalePrice  \n0          2007     314813  \n1          1962     109500  \n2          2006     163500  \n3          2002     271000  \n4          2002     205000  \n\n[5 rows x 22 columns]",
            "text/html": "<div>\n<style scoped>\n    .dataframe tbody tr th:only-of-type {\n        vertical-align: middle;\n    }\n\n    .dataframe tbody tr th {\n        vertical-align: top;\n    }\n\n    .dataframe thead th {\n        text-align: right;\n    }\n</style>\n<table border=\"1\" class=\"dataframe\">\n  <thead>\n    <tr style=\"text-align: right;\">\n      <th></th>\n      <th>1stFlrSF</th>\n      <th>2ndFlrSF</th>\n      <th>BedroomAbvGr</th>\n      <th>BsmtExposure</th>\n      <th>BsmtFinSF1</th>\n      <th>BsmtFinType1</th>\n      <th>BsmtUnfSF</th>\n      <th>GarageArea</th>\n      <th>GarageFinish</th>\n      <th>GarageYrBlt</th>\n      <th>...</th>\n      <th>LotArea</th>\n      <th>LotFrontage</th>\n      <th>MasVnrArea</th>\n      <th>OpenPorchSF</th>\n      <th>OverallCond</th>\n      <th>OverallQual</th>\n      <th>TotalBsmtSF</th>\n      <th>YearBuilt</th>\n      <th>YearRemodAdd</th>\n      <th>SalePrice</th>\n    </tr>\n  </thead>\n  <tbody>\n    <tr>\n      <th>0</th>\n      <td>1828</td>\n      <td>0</td>\n      <td>0</td>\n      <td>Av</td>\n      <td>48</td>\n      <td>Unk</td>\n      <td>1774</td>\n      <td>774</td>\n      <td>Unf</td>\n      <td>2007</td>\n      <td>...</td>\n      <td>11694</td>\n      <td>90</td>\n      <td>452</td>\n      <td>108</td>\n      <td>5</td>\n      <td>9</td>\n      <td>1822</td>\n      <td>2007</td>\n      <td>2007</td>\n      <td>314813</td>\n    </tr>\n    <tr>\n      <th>1</th>\n      <td>894</td>\n      <td>0</td>\n      <td>2</td>\n      <td>No</td>\n      <td>0</td>\n      <td>Unf</td>\n      <td>894</td>\n      <td>308</td>\n      <td>Unf</td>\n      <td>1962</td>\n      <td>...</td>\n      <td>6600</td>\n      <td>60</td>\n      <td>0</td>\n      <td>0</td>\n      <td>5</td>\n      <td>5</td>\n      <td>894</td>\n      <td>1962</td>\n      <td>1962</td>\n      <td>109500</td>\n    </tr>\n    <tr>\n      <th>2</th>\n      <td>964</td>\n      <td>0</td>\n      <td>2</td>\n      <td>No</td>\n      <td>713</td>\n      <td>ALQ</td>\n      <td>163</td>\n      <td>432</td>\n      <td>Unf</td>\n      <td>1921</td>\n      <td>...</td>\n      <td>13360</td>\n      <td>80</td>\n      <td>0</td>\n      <td>0</td>\n      <td>7</td>\n      <td>5</td>\n      <td>876</td>\n      <td>1921</td>\n      <td>2006</td>\n      <td>163500</td>\n    </tr>\n    <tr>\n      <th>3</th>\n      <td>1689</td>\n      <td>0</td>\n      <td>3</td>\n      <td>No</td>\n      <td>1218</td>\n      <td>GLQ</td>\n      <td>350</td>\n      <td>857</td>\n      <td>RFn</td>\n      <td>2002</td>\n      <td>...</td>\n      <td>13265</td>\n      <td>69</td>\n      <td>148</td>\n      <td>59</td>\n      <td>5</td>\n      <td>8</td>\n      <td>1568</td>\n      <td>2002</td>\n      <td>2002</td>\n      <td>271000</td>\n    </tr>\n    <tr>\n      <th>4</th>\n      <td>1541</td>\n      <td>0</td>\n      <td>3</td>\n      <td>No</td>\n      <td>0</td>\n      <td>Unf</td>\n      <td>1541</td>\n      <td>843</td>\n      <td>RFn</td>\n      <td>2001</td>\n      <td>...</td>\n      <td>13704</td>\n      <td>118</td>\n      <td>150</td>\n      <td>81</td>\n      <td>5</td>\n      <td>7</td>\n      <td>1541</td>\n      <td>2001</td>\n      <td>2002</td>\n      <td>205000</td>\n    </tr>\n  </tbody>\n</table>\n<p>5 rows × 22 columns</p>\n</div>"
          },
          "metadata": {},
          "execution_count": 8
        }
      ],
      "source": [
        "df = pd.read_csv(f\"outputs/datasets/cleaned/clean_house_price_records.csv\")\n",
        "df.head()"
      ]
    },
    {
      "source": [
        "## ML Regressor Pipeline"
      ],
      "cell_type": "markdown",
      "metadata": {}
    },
    {
      "cell_type": "code",
      "execution_count": null,
      "metadata": {},
      "outputs": [],
      "source": [
        "from sklearn.pipeline import Pipeline\n",
        "\n",
        "### Feature Engineering\n",
        "from feature_engine.encoding import OrdinalEncoder\n",
        "from feature_engine.selection import SmartCorrelatedSelection\n",
        "from feature_engine import transformation as vt\n",
        "\n",
        "### Feat Scaling\n",
        "from sklearn.preprocessing import StandardScaler\n",
        "\n",
        "### Feat Selection\n",
        "from sklearn.feature_selection import SelectFromModel\n",
        "\n",
        "### ML algorithms\n",
        "from sklearn.ensemble import AdaBoostRegressor\n",
        "from sklearn.ensemble import ExtraTreesRegressor\n",
        "from sklearn.ensemble import GradientBoostingRegressor, RandomForestRegressor\n",
        "from sklearn.linear_model import LinearRegression\n",
        "from sklearn.tree import DecisionTreeRegressor\n",
        "from xgboost import XGBRegressor\n",
        "\n",
        "\n",
        "def PipelineOptimization(model):\n",
        "    pipeline_base = Pipeline([\n",
        "\n",
        "      (\"OrdinalCategoricalEncoder\", OrdinalEncoder(encoding_method='arbitrary',\n",
        "                                                   variables=['BsmtExposure',\n",
        "                                                              'BsmtFinType1',\n",
        "                                                              'GarageFinish',\n",
        "                                                              'KitchenQual'])),\n",
        "\n",
        "      (\"NumericLogTransform\", vt.LogTransformer(variables=['1stFlrSF',\n",
        "                                                           'LotArea',\n",
        "                                                           'GrLivArea'])),\n",
        "      (\"NumericPowerTransform\", vt.PowerTransformer(variables=['MasVnrArea'])),\n",
        "      (\"NumericYeoJohnsonTransform\",\n",
        "       vt.YeoJohnsonTransformer(variables=['OpenPorchSF'])),\n",
        "\n",
        "      (\"SmartCorrelatedSelection\",\n",
        "       SmartCorrelatedSelection(variables=None,\n",
        "                                method=\"spearman\",\n",
        "                                threshold=0.6,\n",
        "                                selection_method=\"cardinality\"\n",
        "                                )),\n",
        "\n",
        "      (\"feat_scaling\", StandardScaler()),\n",
        "\n",
        "      (\"feat_selection\",  SelectFromModel(model)),\n",
        "\n",
        "      (\"model\", model),\n",
        "\n",
        "    ])\n",
        "\n",
        "    return pipeline_base"
      ]
    },
    {
      "cell_type": "markdown",
      "metadata": {},
      "source": [
        "---"
      ]
    },
    {
      "cell_type": "markdown",
      "metadata": {},
      "source": [
        "---"
      ]
    },
    {
      "cell_type": "markdown",
      "metadata": {
        "id": "ltNetd085qHf"
      },
      "source": [
        "# Push files to Repo"
      ]
    },
    {
      "cell_type": "markdown",
      "metadata": {},
      "source": [
        "* If you do not need to push files to Repo, you may replace this section with \"Conclusions and Next Steps\" and state your conclusions and next steps."
      ]
    },
    {
      "cell_type": "code",
      "execution_count": null,
      "metadata": {
        "id": "aKlnIozA4eQO",
        "outputId": "fd09bc1f-adb1-4511-f6ce-492a6af570c0"
      },
      "outputs": [],
      "source": [
        "import os\n",
        "try:\n",
        "  # create here your folder\n",
        "  # os.makedirs(name='')\n",
        "except Exception as e:\n",
        "  print(e)\n"
      ]
    }
  ],
  "metadata": {
    "accelerator": "GPU",
    "colab": {
      "name": "Data Practitioner Jupyter Notebook.ipynb",
      "provenance": [],
      "toc_visible": true
    },
    "interpreter": {
      "hash": "8b8334dab9339717f727a1deaf837b322d7a41c20d15cc86be99a8e69ceec8ce"
    },
    "kernelspec": {
      "display_name": "Python 3.8.12 64-bit ('3.8.12': pyenv)",
      "name": "python381264bit3812pyenv900795a21db3468281e9645a9fc2b09e"
    },
    "language_info": {
      "codemirror_mode": {
        "name": "ipython",
        "version": 3
      },
      "file_extension": ".py",
      "mimetype": "text/x-python",
      "name": "python",
      "nbconvert_exporter": "python",
      "pygments_lexer": "ipython3",
      "version": "3.8.12-final"
    },
    "orig_nbformat": 2
  },
  "nbformat": 4,
  "nbformat_minor": 2
}